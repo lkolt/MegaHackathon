{
 "cells": [
  {
   "cell_type": "code",
   "execution_count": 1,
   "metadata": {},
   "outputs": [
    {
     "name": "stderr",
     "output_type": "stream",
     "text": [
      "/home/alex/anaconda3/lib/python3.6/site-packages/sklearn/cross_validation.py:41: DeprecationWarning: This module was deprecated in version 0.18 in favor of the model_selection module into which all the refactored classes and functions are moved. Also note that the interface of the new CV iterators are different from that of this module. This module will be removed in 0.20.\n",
      "  \"This module will be removed in 0.20.\", DeprecationWarning)\n"
     ]
    }
   ],
   "source": [
    "import matplotlib.pyplot as plt\n",
    "import pandas as pd\n",
    "import numpy as np\n",
    "\n",
    "import xgboost as xgb\n",
    "from xgboost.sklearn import XGBClassifier\n",
    "from sklearn.metrics import roc_curve, auc\n",
    "from sklearn import model_selection, metrics\n",
    "from sklearn.cross_validation import StratifiedKFold\n",
    "from sklearn import preprocessing\n",
    "from sklearn.discriminant_analysis import LinearDiscriminantAnalysis\n",
    "\n",
    "from matplotlib.pylab import rcParams\n",
    "import matplotlib.pyplot as plt\n",
    "import warnings\n",
    "import graphviz as gv\n",
    "import re\n",
    "from IPython.core.display import display\n",
    "\n",
    "warnings.filterwarnings('ignore')\n",
    "%matplotlib inline\n",
    "pd.options.display.max_rows = 999\n",
    "pd.options.display.max_columns = 999"
   ]
  },
  {
   "cell_type": "code",
   "execution_count": 2,
   "metadata": {},
   "outputs": [],
   "source": [
    "def predict(alg, data, cv_folds=5):\n",
    "    labels = data['label']\n",
    "    cv = StratifiedKFold(labels, n_folds=4, shuffle=True)\n",
    "    a = 0.25\n",
    "    \n",
    "    for i, (train, test) in enumerate(cv):\n",
    "        data_train = data.iloc[train, :][2:]\n",
    "        data_test = data.iloc[test, :][2:]\n",
    "        \n",
    "        print('Fit XGBoost')\n",
    "        \n",
    "        labels_train = np.array(data_train['label'])\n",
    "        labels_test = np.array(data_test['label'])\n",
    "        \n",
    "        data_train = data_train.drop(['label'], axis=1).fillna(0)\n",
    "        data_test = data_test.drop(['label'], axis=1).fillna(0)\n",
    "        \n",
    "        data_columns = data_train.columns\n",
    "        #display(data_train.head(10))\n",
    "        std_scale = preprocessing.MinMaxScaler().fit(data_train[data_columns])\n",
    "        #std_scale = preprocessing.StandardScaler().fit(data_train[data_columns])\n",
    "        data_train[data_columns] = std_scale.transform(data_train[data_columns])\n",
    "        data_test[data_columns] = std_scale.transform(data_test[data_columns])\n",
    "        \n",
    "        #display(data_train.head(10))\n",
    "        \n",
    "        model = alg.fit(np.matrix(data_train), labels_train)\n",
    "        dtrain_predictions = model.predict(np.matrix(data_test))\n",
    "        dtrain_predprob = model.predict_proba(np.matrix(data_test))[:,1]\n",
    "        dtrain_predictions = (dtrain_predprob > a).astype(int)\n",
    "        print(dtrain_predictions)\n",
    "        print(labels_test)\n",
    "\n",
    "        ch = zip(labels_test, dtrain_predictions)\n",
    "        tp, tn, fp, fn = 0, 0, 0, 0\n",
    "        for value, prediction in ch:\n",
    "            if (prediction and value):\n",
    "                tp += 1\n",
    "            if (prediction and not value):\n",
    "                fp += 1\n",
    "            if (not prediction and value):\n",
    "                fn += 1\n",
    "            if (not prediction and not value):\n",
    "                tn += 1\n",
    "        \n",
    "        print (\"\\nModel quality\")\n",
    "        print (\"Accuracy : %.4g\" % metrics.accuracy_score(labels_test, dtrain_predictions))\n",
    "        print (\"AUC Score : %f\" % metrics.roc_auc_score(labels_test, dtrain_predprob))\n",
    "        print (\"TP:\" + str(tp) + \", TN:\" + str(tn) + \", FP:\" + str(fp) + \", FN:\"+ str(fn))\n",
    "        print (\"Precision Score : %f\" % metrics.precision_score(labels_test, dtrain_predictions))\n",
    "        print (\"Recall Score : %f\" % metrics.recall_score(labels_test, dtrain_predictions))\n",
    "\n",
    "        \n",
    "        fpr, tpr, _ = roc_curve(labels_test, dtrain_predprob)\n",
    "        roc_auc = auc(fpr, tpr)\n",
    "        plt.plot(fpr, tpr, lw=1, label='ROC fold %d (area = %0.2f)' % (i, roc_auc))\n",
    "        plt.plot([0, 1], [0, 1], '--', color=(0.6, 0.6, 0.6), label='Luck')\n",
    "        plt.xlim([-0.05, 1.05])\n",
    "        plt.ylim([-0.05, 1.05])\n",
    "        plt.xlabel('False Positive Rate')\n",
    "        plt.ylabel('True Positive Rate')\n",
    "        plt.title('Receiver operating characteristic example')\n",
    "        plt.legend(loc=\"lower right\")\n",
    "        plt.savefig('lda'+'.png', format='png', dpi=100)\n",
    "        plt.show()\n",
    "        "
   ]
  },
  {
   "cell_type": "code",
   "execution_count": 4,
   "metadata": {},
   "outputs": [],
   "source": [
    "xgb = XGBClassifier(\n",
    " learning_rate =0.01,\n",
    " n_estimators=200,\n",
    " max_depth=6,\n",
    " subsample=0.7,\n",
    " colsample_bytree=1,\n",
    " objective= 'binary:logistic',\n",
    " nthread=4,\n",
    " seed=15)"
   ]
  },
  {
   "cell_type": "code",
   "execution_count": null,
   "metadata": {},
   "outputs": [],
   "source": []
  }
 ],
 "metadata": {
  "kernelspec": {
   "display_name": "Python 3",
   "language": "python",
   "name": "python3"
  },
  "language_info": {
   "codemirror_mode": {
    "name": "ipython",
    "version": 3
   },
   "file_extension": ".py",
   "mimetype": "text/x-python",
   "name": "python",
   "nbconvert_exporter": "python",
   "pygments_lexer": "ipython3",
   "version": "3.6.4"
  }
 },
 "nbformat": 4,
 "nbformat_minor": 1
}
